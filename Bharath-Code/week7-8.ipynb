{
 "cells": [
  {
   "cell_type": "code",
   "execution_count": null,
   "metadata": {
    "vscode": {
     "languageId": "plaintext"
    }
   },
   "outputs": [],
   "source": [
    "import pandas as pd\n",
    "import numpy as np\n",
    "import geopandas as gpd\n",
    "import matplotlib.pyplot as plt\n",
    "import seaborn as sns\n",
    "from shapely import wkt\n",
    "import folium\n",
    "from folium.plugins import HeatMap\n",
    "import networkx as nx"
   ]
  },
  {
   "cell_type": "code",
   "execution_count": null,
   "metadata": {
    "vscode": {
     "languageId": "plaintext"
    }
   },
   "outputs": [],
   "source": [
    "weatherstation = pd.read_csv('gis_weatherstation_shape_2024_10_04.csv')\n",
    "meteorology_summary = pd.read_csv('src_wings_meteorology_station_summary_snapshot_2023_08_02.csv')\n",
    "meteorology_windspeed = pd.read_csv('src_wings_meteorology_windspeed_snapshot_2023_08_02.csv')\n",
    "\n",
    "merged_df = meteorology_windspeed.merge(meteorology_summary, on='station', how='inner')\n",
    "weatherstation_merged = merged_df.merge(weatherstation, left_on='station', right_on='weatherstationcode', how='inner')"
   ]
  },
  {
   "cell_type": "code",
   "execution_count": null,
   "metadata": {
    "vscode": {
     "languageId": "plaintext"
    }
   },
   "outputs": [],
   "source": [
    "impacted_spans['num_weather_stations'] = impacted_spans['associated_stations'].apply(len)\n",
    "\n",
    "# Find the span(s) with the greatest number of weather stations\n",
    "max_stations = impacted_spans['num_weather_stations'].max()\n",
    "spans_with_max_stations = impacted_spans[impacted_spans['num_weather_stations'] == max_stations]\n",
    "\n",
    "print(\"Span(s) impacted by the greatest number of weather stations:\")\n",
    "print(spans_with_max_stations[['span_id', 'num_weather_stations']])"
   ]
  }
 ],
 "metadata": {
  "language_info": {
   "name": "python"
  }
 },
 "nbformat": 4,
 "nbformat_minor": 2
}
